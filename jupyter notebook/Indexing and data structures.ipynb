{
 "cells": [
  {
   "cell_type": "markdown",
   "id": "d160e62c-b9a0-4857-9642-5f104deb5d90",
   "metadata": {},
   "source": [
    "# Indexing\n"
   ]
  },
  {
   "cell_type": "code",
   "execution_count": 112,
   "id": "a1ecee7d-1fb0-4d1f-a4a3-922487be679a",
   "metadata": {},
   "outputs": [
    {
     "data": {
      "text/plain": [
       "'Samosa pakora'"
      ]
     },
     "execution_count": 112,
     "metadata": {},
     "output_type": "execute_result"
    }
   ],
   "source": [
    "a = \"Samosa pakora\"\n",
    "a"
   ]
  },
  {
   "cell_type": "code",
   "execution_count": 120,
   "id": "8a140399-7bb0-406a-b92b-f1da4c1abb76",
   "metadata": {},
   "outputs": [
    {
     "data": {
      "text/plain": [
       "13"
      ]
     },
     "execution_count": 120,
     "metadata": {},
     "output_type": "execute_result"
    }
   ],
   "source": [
    "# lenth of indexes\n",
    "len(a)\n"
   ]
  },
  {
   "cell_type": "code",
   "execution_count": 118,
   "id": "ddaae3e1-baa8-43f2-988b-11d1601a3110",
   "metadata": {},
   "outputs": [
    {
     "data": {
      "text/plain": [
       "'S'"
      ]
     },
     "execution_count": 118,
     "metadata": {},
     "output_type": "execute_result"
    }
   ],
   "source": [
    "a[0]"
   ]
  },
  {
   "cell_type": "code",
   "execution_count": 116,
   "id": "ced45c98-82f3-4f09-9efd-38cc02053c33",
   "metadata": {},
   "outputs": [
    {
     "data": {
      "text/plain": [
       "'a'"
      ]
     },
     "execution_count": 116,
     "metadata": {},
     "output_type": "execute_result"
    }
   ],
   "source": [
    "a[12]\n"
   ]
  },
  {
   "cell_type": "code",
   "execution_count": 128,
   "id": "ea5c9375-bab6-42e7-867c-cfc9875af60c",
   "metadata": {},
   "outputs": [
    {
     "data": {
      "text/plain": [
       "'Samosa'"
      ]
     },
     "execution_count": 128,
     "metadata": {},
     "output_type": "execute_result"
    }
   ],
   "source": [
    "# last index is exclusive\n",
    "\n",
    "a[0:6]"
   ]
  },
  {
   "cell_type": "code",
   "execution_count": 72,
   "id": "24a7d5a4-c3d2-43d8-a39a-8a823c425459",
   "metadata": {},
   "outputs": [
    {
     "data": {
      "text/plain": [
       "'r'"
      ]
     },
     "execution_count": 72,
     "metadata": {},
     "output_type": "execute_result"
    }
   ],
   "source": [
    "a [-3]"
   ]
  },
  {
   "cell_type": "code",
   "execution_count": 114,
   "id": "784388b6-ea63-47d0-9e8a-fd2d77b87f53",
   "metadata": {},
   "outputs": [
    {
     "data": {
      "text/plain": [
       "' pakora'"
      ]
     },
     "execution_count": 114,
     "metadata": {},
     "output_type": "execute_result"
    }
   ],
   "source": [
    "a[-7:13]"
   ]
  },
  {
   "cell_type": "markdown",
   "id": "d7b6a898-cf04-40d1-8611-439b2f0d8077",
   "metadata": {},
   "source": [
    " # String Mthods"
   ]
  },
  {
   "cell_type": "code",
   "execution_count": 143,
   "id": "6ec54ef2-751f-41bc-a5a8-bd0c644a10c0",
   "metadata": {},
   "outputs": [
    {
     "data": {
      "text/plain": [
       "'biryani'"
      ]
     },
     "execution_count": 143,
     "metadata": {},
     "output_type": "execute_result"
    }
   ],
   "source": [
    "food = \"biryani\"\n",
    "food"
   ]
  },
  {
   "cell_type": "code",
   "execution_count": 141,
   "id": "66b80889-bffc-4e3f-942b-b36f92bbcf44",
   "metadata": {},
   "outputs": [
    {
     "data": {
      "text/plain": [
       "7"
      ]
     },
     "execution_count": 141,
     "metadata": {},
     "output_type": "execute_result"
    }
   ],
   "source": [
    "len(food)"
   ]
  },
  {
   "cell_type": "code",
   "execution_count": 159,
   "id": "e0cb670d-74bc-4d1b-9fea-bc8b8471d7c3",
   "metadata": {},
   "outputs": [
    {
     "data": {
      "text/plain": [
       "'Biryani'"
      ]
     },
     "execution_count": 159,
     "metadata": {},
     "output_type": "execute_result"
    }
   ],
   "source": [
    " # Capitalize first letter\n",
    "food.capitalize()"
   ]
  },
  {
   "cell_type": "code",
   "execution_count": 163,
   "id": "aae5e6c8-5a92-480f-89d1-ddb96f364155",
   "metadata": {},
   "outputs": [
    {
     "data": {
      "text/plain": [
       "'BIRYANI'"
      ]
     },
     "execution_count": 163,
     "metadata": {},
     "output_type": "execute_result"
    }
   ],
   "source": [
    "  # capitalize all letters upper case letters\n",
    "food.upper()"
   ]
  },
  {
   "cell_type": "code",
   "execution_count": 165,
   "id": "90e40f78-51de-4a01-a902-e4d33e4a7ea4",
   "metadata": {},
   "outputs": [
    {
     "data": {
      "text/plain": [
       "'biryani'"
      ]
     },
     "execution_count": 165,
     "metadata": {},
     "output_type": "execute_result"
    }
   ],
   "source": [
    " # lower case letter\n",
    "food.lower()"
   ]
  },
  {
   "cell_type": "code",
   "execution_count": 171,
   "id": "6f4cac98-5b97-45be-a47a-205ef7717693",
   "metadata": {},
   "outputs": [
    {
     "data": {
      "text/plain": [
       "'shiryani'"
      ]
     },
     "execution_count": 171,
     "metadata": {},
     "output_type": "execute_result"
    }
   ],
   "source": [
    "# Replace\n",
    "food.replace(\"b\" , \"sh\")"
   ]
  },
  {
   "cell_type": "code",
   "execution_count": 175,
   "id": "201d215f-9de7-4e1a-a411-7b29b5d9cb28",
   "metadata": {},
   "outputs": [
    {
     "data": {
      "text/plain": [
       "'zohra suhriyani'"
      ]
     },
     "execution_count": 175,
     "metadata": {},
     "output_type": "execute_result"
    }
   ],
   "source": [
    " # counting a specific alphabet\n",
    " name = \"zohra suhriyani\"\n",
    "name"
   ]
  },
  {
   "cell_type": "code",
   "execution_count": 181,
   "id": "63b920da-e0d3-4c41-b769-db60260fce9c",
   "metadata": {},
   "outputs": [
    {
     "data": {
      "text/plain": [
       "2"
      ]
     },
     "execution_count": 181,
     "metadata": {},
     "output_type": "execute_result"
    }
   ],
   "source": [
    "name.count(\"hr\")"
   ]
  },
  {
   "cell_type": "markdown",
   "id": "62c21815-e15c-471f-86a8-d44d20b75b1e",
   "metadata": {},
   "source": [
    " # Finding  index number in large string\n"
   ]
  },
  {
   "cell_type": "code",
   "execution_count": 186,
   "id": "78e7462e-1d04-4d21-893b-69addde4ae5e",
   "metadata": {},
   "outputs": [
    {
     "data": {
      "text/plain": [
       "'we are leranig python'"
      ]
     },
     "execution_count": 186,
     "metadata": {},
     "output_type": "execute_result"
    }
   ],
   "source": [
    "b  = \"we are leranig python\"\n",
    "b"
   ]
  },
  {
   "cell_type": "code",
   "execution_count": 196,
   "id": "45317ab4-b0b7-4031-a96d-0467efa351fa",
   "metadata": {},
   "outputs": [
    {
     "data": {
      "text/plain": [
       "19"
      ]
     },
     "execution_count": 196,
     "metadata": {},
     "output_type": "execute_result"
    }
   ],
   "source": [
    "b.find(\"o\")"
   ]
  },
  {
   "cell_type": "markdown",
   "id": "4969dd63-7eca-420c-abdf-0138d7bba840",
   "metadata": {},
   "source": [
    " # How to split String"
   ]
  },
  {
   "cell_type": "code",
   "execution_count": 199,
   "id": "7f13e3f6-cc37-4244-9329-831f911390b9",
   "metadata": {},
   "outputs": [
    {
     "data": {
      "text/plain": [
       "' I love , Burgor , Pizza, Pasta , Shwarma'"
      ]
     },
     "execution_count": 199,
     "metadata": {},
     "output_type": "execute_result"
    }
   ],
   "source": [
    "food = \" I love , Burgor , Pizza, Pasta , Shwarma\"\n",
    "food"
   ]
  },
  {
   "cell_type": "code",
   "execution_count": 203,
   "id": "807d9c8e-9e05-4a7a-b3a1-830797226265",
   "metadata": {},
   "outputs": [
    {
     "data": {
      "text/plain": [
       "[' I love ', ' Burgor ', ' Pizza', ' Pasta ', ' Shwarma']"
      ]
     },
     "execution_count": 203,
     "metadata": {},
     "output_type": "execute_result"
    }
   ],
   "source": [
    "food.split(\",\")"
   ]
  },
  {
   "cell_type": "markdown",
   "id": "331ae2e1-8fcb-4f7c-bb67-c169548e4212",
   "metadata": {},
   "source": [
    "# Basic Data Structures In Python"
   ]
  },
  {
   "cell_type": "code",
   "execution_count": 4,
   "id": "7c45f313-3600-41d3-b166-e10240a7b723",
   "metadata": {},
   "outputs": [],
   "source": [
    " # 4 Types of data Structures\n",
    "   # 1- Tuple\n",
    "   # 2- List\n",
    "   # 3- Dictionaries\n",
    "   # 4- Set"
   ]
  },
  {
   "cell_type": "markdown",
   "id": "6019f2a1-c7ce-4831-8718-9fb5669efc65",
   "metadata": {},
   "source": [
    "  # 1- Tuple"
   ]
  },
  {
   "cell_type": "code",
   "execution_count": 17,
   "id": "48579370-5ee9-43a9-890f-a7651918cb9f",
   "metadata": {},
   "outputs": [],
   "source": [
    "\n",
    "#Tuples are ordered collection of elements\n",
    " #enclosed with round braces\n",
    "#Different kinds of element can be stored in tuple\n",
    "#Once elements are stored you cannot change them  OR   tuples are immutable\n"
   ]
  },
  {
   "cell_type": "code",
   "execution_count": 61,
   "id": "3d5d5bb2-7c8f-49e5-ac2a-8128b8f04930",
   "metadata": {},
   "outputs": [
    {
     "data": {
      "text/plain": [
       "('1', 'Python', 'True', '2.5')"
      ]
     },
     "execution_count": 61,
     "metadata": {},
     "output_type": "execute_result"
    }
   ],
   "source": [
    "tup1 = ( \"1\" , \"Python\" , \"True\" ,\"2.5\")\n",
    "tup1\n"
   ]
  },
  {
   "cell_type": "code",
   "execution_count": 95,
   "id": "752af6d2-2c64-49c5-9d62-c33810474b0b",
   "metadata": {},
   "outputs": [
    {
     "name": "stdout",
     "output_type": "stream",
     "text": [
      "(21,)\n"
     ]
    }
   ],
   "source": [
    "print(type)"
   ]
  },
  {
   "cell_type": "code",
   "execution_count": 99,
   "id": "b16f9bd6-19dd-43d3-a422-f4e9a2a9561a",
   "metadata": {},
   "outputs": [
    {
     "name": "stdout",
     "output_type": "stream",
     "text": [
      "<class 'tuple'>\n"
     ]
    }
   ],
   "source": [
    "del(type)\n",
    "print(type((21,))) "
   ]
  },
  {
   "cell_type": "markdown",
   "id": "c8252e64-691c-43b2-9241-553e79338e52",
   "metadata": {},
   "source": [
    "### Indexing in tuple"
   ]
  },
  {
   "cell_type": "code",
   "execution_count": 106,
   "id": "ea37d381-bff9-4415-988c-468ba3717cd7",
   "metadata": {},
   "outputs": [
    {
     "data": {
      "text/plain": [
       "'Python'"
      ]
     },
     "execution_count": 106,
     "metadata": {},
     "output_type": "execute_result"
    }
   ],
   "source": [
    "tup1[1]"
   ]
  },
  {
   "cell_type": "code",
   "execution_count": 108,
   "id": "eb82aed8-e273-4e66-a1e4-89f28fe3b659",
   "metadata": {},
   "outputs": [
    {
     "data": {
      "text/plain": [
       "'True'"
      ]
     },
     "execution_count": 108,
     "metadata": {},
     "output_type": "execute_result"
    }
   ],
   "source": [
    "tup1[2]"
   ]
  },
  {
   "cell_type": "code",
   "execution_count": 114,
   "id": "2353f419-b81e-4029-a2d5-315562570210",
   "metadata": {},
   "outputs": [
    {
     "data": {
      "text/plain": [
       "('1', 'Python', 'True')"
      ]
     },
     "execution_count": 114,
     "metadata": {},
     "output_type": "execute_result"
    }
   ],
   "source": [
    "tup1[0:3]"
   ]
  },
  {
   "cell_type": "code",
   "execution_count": 116,
   "id": "1701fb23-5ca4-4565-b0bb-8d0cb0bef06a",
   "metadata": {},
   "outputs": [
    {
     "data": {
      "text/plain": [
       "4"
      ]
     },
     "execution_count": 116,
     "metadata": {},
     "output_type": "execute_result"
    }
   ],
   "source": [
    "len(tup1)"
   ]
  },
  {
   "cell_type": "code",
   "execution_count": 120,
   "id": "5b13e5d3-fe76-4abf-9a78-85a48bef5958",
   "metadata": {},
   "outputs": [
    {
     "data": {
      "text/plain": [
       "(2, 'zohra', 3.5, 'false')"
      ]
     },
     "execution_count": 120,
     "metadata": {},
     "output_type": "execute_result"
    }
   ],
   "source": [
    "tup2=(2, \"zohra\" , 3.5 , \"false\")\n",
    "tup2"
   ]
  },
  {
   "cell_type": "code",
   "execution_count": 148,
   "id": "fa249a7d-2f73-4c5f-a41e-b3bf960614e8",
   "metadata": {},
   "outputs": [
    {
     "data": {
      "text/plain": [
       "('1', 'Python', 'True', '2.5', 2, 'zohra', 3.5, 'false')"
      ]
     },
     "execution_count": 148,
     "metadata": {},
     "output_type": "execute_result"
    }
   ],
   "source": [
    "# concatenate\n",
    "tup1 + tup2"
   ]
  },
  {
   "cell_type": "code",
   "execution_count": 150,
   "id": "3ff3d4a4-16d5-421b-bb67-f586449d5fb4",
   "metadata": {},
   "outputs": [
    {
     "data": {
      "text/plain": [
       "('1',\n",
       " 'Python',\n",
       " 'True',\n",
       " '2.5',\n",
       " '1',\n",
       " 'Python',\n",
       " 'True',\n",
       " '2.5',\n",
       " 2,\n",
       " 'zohra',\n",
       " 3.5,\n",
       " 'false')"
      ]
     },
     "execution_count": 150,
     "metadata": {},
     "output_type": "execute_result"
    }
   ],
   "source": [
    " # concatenate + repeat\n",
    "tup1*2 + tup2"
   ]
  },
  {
   "cell_type": "code",
   "execution_count": 128,
   "id": "055976a0-a8d3-4ce8-b537-efc6288dddd5",
   "metadata": {},
   "outputs": [
    {
     "data": {
      "text/plain": [
       "(20, 50, 30, 60, 79, 85)"
      ]
     },
     "execution_count": 128,
     "metadata": {},
     "output_type": "execute_result"
    }
   ],
   "source": [
    "tup3 =(20, 50, 30, 60,79,85)\n",
    "tup3"
   ]
  },
  {
   "cell_type": "code",
   "execution_count": 142,
   "id": "59f8529f-c704-47eb-ba48-13fe23179997",
   "metadata": {},
   "outputs": [
    {
     "data": {
      "text/plain": [
       "20"
      ]
     },
     "execution_count": 142,
     "metadata": {},
     "output_type": "execute_result"
    }
   ],
   "source": [
    "# Minimum\n",
    "min(tup3)"
   ]
  },
  {
   "cell_type": "code",
   "execution_count": 166,
   "id": "6a5aa67b-dfbe-4da0-a905-2557d4b71f9b",
   "metadata": {},
   "outputs": [
    {
     "data": {
      "text/plain": [
       "85"
      ]
     },
     "execution_count": 166,
     "metadata": {},
     "output_type": "execute_result"
    }
   ],
   "source": [
    "max(tup3)\n",
    "\n"
   ]
  },
  {
   "cell_type": "code",
   "execution_count": 162,
   "id": "aa280409-e212-4d3a-a49d-3fb8c2c2ede9",
   "metadata": {},
   "outputs": [
    {
     "data": {
      "text/plain": [
       "(20, 50, 30, 60, 79, 85, 20, 50, 30, 60, 79, 85)"
      ]
     },
     "execution_count": 162,
     "metadata": {},
     "output_type": "execute_result"
    }
   ],
   "source": [
    "tup3 * 2"
   ]
  },
  {
   "cell_type": "markdown",
   "id": "9a770b93-6607-4de3-a12b-bd34fbaab79d",
   "metadata": {},
   "source": [
    "---"
   ]
  },
  {
   "cell_type": "markdown",
   "id": "2aa85e5f-b928-48a8-a142-1e343007c78c",
   "metadata": {},
   "source": [
    " # -2 List"
   ]
  },
  {
   "cell_type": "code",
   "execution_count": 8,
   "id": "f3c2e7a2-19e3-41fd-9e08-97af0b70a36b",
   "metadata": {},
   "outputs": [],
   "source": [
    "  # list are ordered collection of elements like int string boolean float\n",
    "  # Enclosed in [ ] these square brackets\n",
    "  # list are mutable means can be change the values\n"
   ]
  },
  {
   "cell_type": "code",
   "execution_count": 10,
   "id": "8ad5e5ee-da2e-4507-bd23-c1fc4582af9d",
   "metadata": {},
   "outputs": [
    {
     "data": {
      "text/plain": [
       "[1, 'zohra', 'false']"
      ]
     },
     "execution_count": 10,
     "metadata": {},
     "output_type": "execute_result"
    }
   ],
   "source": [
    "lis1 =[1, \"zohra\" , \"false\"]\n",
    "lis1"
   ]
  },
  {
   "cell_type": "code",
   "execution_count": 18,
   "id": "2c90abaf-b432-45a1-b327-1ef8342ac4b1",
   "metadata": {},
   "outputs": [
    {
     "data": {
      "text/plain": [
       "list"
      ]
     },
     "execution_count": 18,
     "metadata": {},
     "output_type": "execute_result"
    }
   ],
   "source": [
    "type(lis1)"
   ]
  },
  {
   "cell_type": "code",
   "execution_count": 24,
   "id": "c3671933-9aa2-43bd-ab3d-d98c3b898656",
   "metadata": {},
   "outputs": [
    {
     "data": {
      "text/plain": [
       "3"
      ]
     },
     "execution_count": 24,
     "metadata": {},
     "output_type": "execute_result"
    }
   ],
   "source": [
    "len(lis1)"
   ]
  },
  {
   "cell_type": "code",
   "execution_count": 28,
   "id": "900fdb3a-8b31-409b-afd7-a8dcf4ce4557",
   "metadata": {},
   "outputs": [
    {
     "data": {
      "text/plain": [
       "'false'"
      ]
     },
     "execution_count": 28,
     "metadata": {},
     "output_type": "execute_result"
    }
   ],
   "source": [
    "lis1[2]"
   ]
  },
  {
   "cell_type": "code",
   "execution_count": 30,
   "id": "41f7759e-ecc8-452d-95cf-f726821c2378",
   "metadata": {},
   "outputs": [
    {
     "data": {
      "text/plain": [
       "[3, 5, 'Ammar', 'codanics', 478, 53.2, 'false']"
      ]
     },
     "execution_count": 30,
     "metadata": {},
     "output_type": "execute_result"
    }
   ],
   "source": [
    "lis2 =[3, 5 ,\"Ammar\", \"codanics\" , 478 ,  53.2,  \"false\"]\n",
    "lis2"
   ]
  },
  {
   "cell_type": "code",
   "execution_count": 32,
   "id": "b39ef05d-c8c3-4efb-bca8-6c5a06821358",
   "metadata": {},
   "outputs": [
    {
     "data": {
      "text/plain": [
       "[1, 'zohra', 'false', 3, 5, 'Ammar', 'codanics', 478, 53.2, 'false']"
      ]
     },
     "execution_count": 32,
     "metadata": {},
     "output_type": "execute_result"
    }
   ],
   "source": [
    "lis1 + lis2"
   ]
  },
  {
   "cell_type": "code",
   "execution_count": 36,
   "id": "2e43d696-a923-467b-a124-f5e79bb9f3b2",
   "metadata": {},
   "outputs": [
    {
     "data": {
      "text/plain": [
       "[1, 'zohra', 'false', 1, 'zohra', 'false']"
      ]
     },
     "execution_count": 36,
     "metadata": {},
     "output_type": "execute_result"
    }
   ],
   "source": [
    "lis1 * 2"
   ]
  },
  {
   "cell_type": "code",
   "execution_count": 42,
   "id": "b803825f-a426-4e7e-b44b-3074bd9f94cd",
   "metadata": {},
   "outputs": [
    {
     "data": {
      "text/plain": [
       "['false', 'zohra', 1]"
      ]
     },
     "execution_count": 42,
     "metadata": {},
     "output_type": "execute_result"
    }
   ],
   "source": [
    "lis1.reverse()\n",
    "lis1"
   ]
  },
  {
   "cell_type": "code",
   "execution_count": 48,
   "id": "822496e9-9e3b-42d4-9c1b-9d34eb182616",
   "metadata": {},
   "outputs": [
    {
     "data": {
      "text/plain": [
       "['false',\n",
       " 'zohra',\n",
       " 1,\n",
       " 'codanics youtube channel',\n",
       " 'codanics youtube channel',\n",
       " 'codanics youtube channel']"
      ]
     },
     "execution_count": 48,
     "metadata": {},
     "output_type": "execute_result"
    }
   ],
   "source": [
    "lis1.append( \"codanics youtube channel\")\n",
    "lis1"
   ]
  },
  {
   "cell_type": "code",
   "execution_count": 68,
   "id": "7e5c10b4-6f5f-4829-90ea-6e1c0a549e0a",
   "metadata": {},
   "outputs": [
    {
     "data": {
      "text/plain": [
       "['false',\n",
       " 1,\n",
       " 'codanics youtube channel',\n",
       " 'codanics youtube channel',\n",
       " 'codanics youtube channel']"
      ]
     },
     "execution_count": 68,
     "metadata": {},
     "output_type": "execute_result"
    }
   ],
   "source": [
    "lis1.remove(\"zohra\")\n",
    "lis1"
   ]
  },
  {
   "cell_type": "code",
   "execution_count": 78,
   "id": "bf18a7d4-d0e9-4aeb-b4e3-cf67ebe10192",
   "metadata": {},
   "outputs": [
    {
     "data": {
      "text/plain": [
       "[20, 30, 35, 50, 40, 15, 12, 11, 10, 8, 5, 6]"
      ]
     },
     "execution_count": 78,
     "metadata": {},
     "output_type": "execute_result"
    }
   ],
   "source": [
    "lis3 = [ 20 , 30 , 35, 50, 40, 15, 12, 11, 10, 8, 5, 6, ]\n",
    "lis3"
   ]
  },
  {
   "cell_type": "code",
   "execution_count": 80,
   "id": "e07d2781-b2a7-4fdd-8559-a0cfc4f424a9",
   "metadata": {},
   "outputs": [
    {
     "data": {
      "text/plain": [
       "12"
      ]
     },
     "execution_count": 80,
     "metadata": {},
     "output_type": "execute_result"
    }
   ],
   "source": [
    "len(lis3)"
   ]
  },
  {
   "cell_type": "code",
   "execution_count": 86,
   "id": "75f71808-2e80-4072-a554-dda61ed0d82d",
   "metadata": {},
   "outputs": [
    {
     "data": {
      "text/plain": [
       "[5, 6, 8, 10, 11, 12, 15, 20, 30, 35, 40, 50]"
      ]
     },
     "execution_count": 86,
     "metadata": {},
     "output_type": "execute_result"
    }
   ],
   "source": [
    "# Sorting a list\n",
    "lis3.sort()\n",
    "lis3"
   ]
  },
  {
   "cell_type": "code",
   "execution_count": 88,
   "id": "45ae59ad-f8c1-4f10-b20b-ff828ccadee3",
   "metadata": {},
   "outputs": [
    {
     "data": {
      "text/plain": [
       "[5,\n",
       " 6,\n",
       " 8,\n",
       " 10,\n",
       " 11,\n",
       " 12,\n",
       " 15,\n",
       " 20,\n",
       " 30,\n",
       " 35,\n",
       " 40,\n",
       " 50,\n",
       " 5,\n",
       " 6,\n",
       " 8,\n",
       " 10,\n",
       " 11,\n",
       " 12,\n",
       " 15,\n",
       " 20,\n",
       " 30,\n",
       " 35,\n",
       " 40,\n",
       " 50]"
      ]
     },
     "execution_count": 88,
     "metadata": {},
     "output_type": "execute_result"
    }
   ],
   "source": [
    "lis3 * 2"
   ]
  },
  {
   "cell_type": "markdown",
   "id": "ed3b3e08-f31d-468d-9d3b-411d3693abe2",
   "metadata": {},
   "source": [
    "# 3 Dictionories"
   ]
  },
  {
   "cell_type": "code",
   "execution_count": 1,
   "id": "9cc1084c-8bd4-4370-a999-86d77a4ddc82",
   "metadata": {},
   "outputs": [],
   "source": [
    "# In Dictionaries collection of elements an unordered \n",
    " # key and value\n",
    " # use curly braces { }\n",
    " # Dictionries are mutable can be change \n"
   ]
  },
  {
   "cell_type": "code",
   "execution_count": 77,
   "id": "a82ce44a-9b68-46a0-8d1a-bc10cd29855e",
   "metadata": {},
   "outputs": [
    {
     "data": {
      "text/plain": [
       "{'samosa': 30, 'pakora': 100, 'raita': 20, 'salid': 50, 'chicket roles': 30}"
      ]
     },
     "execution_count": 77,
     "metadata": {},
     "output_type": "execute_result"
    }
   ],
   "source": [
    "# fruit and their prics\n",
    "food1 = {\"samosa\": 30, \"pakora\": 100, \"raita\": 20, \"salid\": 50, \"chicket roles\": 30}\n",
    "food1"
   ]
  },
  {
   "cell_type": "code",
   "execution_count": 41,
   "id": "2ebe9cae-4490-40cd-ab8b-db4e0976503f",
   "metadata": {},
   "outputs": [
    {
     "data": {
      "text/plain": [
       "dict"
      ]
     },
     "execution_count": 41,
     "metadata": {},
     "output_type": "execute_result"
    }
   ],
   "source": [
    "type(food1)"
   ]
  },
  {
   "cell_type": "code",
   "execution_count": 53,
   "id": "ad54d832-c591-49e7-9874-b1d11f558b5c",
   "metadata": {},
   "outputs": [
    {
     "data": {
      "text/plain": [
       "dict_keys(['samosa', 'pakora', 'raita', 'salid', 'chicket roles'])"
      ]
     },
     "execution_count": 53,
     "metadata": {},
     "output_type": "execute_result"
    }
   ],
   "source": [
    "# Extract keys\n",
    "keys1 = food1.keys()\n",
    "keys1"
   ]
  },
  {
   "cell_type": "code",
   "execution_count": 55,
   "id": "63f67fa8-3d02-47ba-8c08-ab91854a988a",
   "metadata": {},
   "outputs": [
    {
     "data": {
      "text/plain": [
       "dict_values([30, 100, 20, 50, 30])"
      ]
     },
     "execution_count": 55,
     "metadata": {},
     "output_type": "execute_result"
    }
   ],
   "source": [
    "value1 = food1.values()\n",
    "value1"
   ]
  },
  {
   "cell_type": "code",
   "execution_count": 81,
   "id": "c2b57e23-f1c2-4f4b-afe7-fa2badc239cb",
   "metadata": {},
   "outputs": [
    {
     "data": {
      "text/plain": [
       "{'samosa': 30,\n",
       " 'pakora': 100,\n",
       " 'raita': 20,\n",
       " 'salid': 50,\n",
       " 'chicket roles': 30,\n",
       " 'tikki': 50}"
      ]
     },
     "execution_count": 81,
     "metadata": {},
     "output_type": "execute_result"
    }
   ],
   "source": [
    "# adding values in dictionary\n",
    "food1[\"tikki\"] = 50\n",
    "food1"
   ]
  },
  {
   "cell_type": "code",
   "execution_count": 85,
   "id": "006e90f4-9306-4b64-87e1-07d1ff64f273",
   "metadata": {},
   "outputs": [
    {
     "data": {
      "text/plain": [
       "{'samosa': 30,\n",
       " 'pakora': 100,\n",
       " 'raita': 20,\n",
       " 'salid': 50,\n",
       " 'chicket roles': 30,\n",
       " 'tikki': 60}"
      ]
     },
     "execution_count": 85,
     "metadata": {},
     "output_type": "execute_result"
    }
   ],
   "source": [
    "#  Update values in dictionary\n",
    "food1[\"tikki\"] = 60\n",
    "food1"
   ]
  },
  {
   "cell_type": "code",
   "execution_count": 87,
   "id": "f95b6d84-35f6-4c64-ac86-6654d2087716",
   "metadata": {},
   "outputs": [
    {
     "data": {
      "text/plain": [
       "{'Dates': 50, 'choclate': 150, 'biscuit': 1000}"
      ]
     },
     "execution_count": 87,
     "metadata": {},
     "output_type": "execute_result"
    }
   ],
   "source": [
    "food2 = { \"Dates\" :50, \"choclate\" :150 , \"biscuit\" : 1000}\n",
    "food2"
   ]
  },
  {
   "cell_type": "code",
   "execution_count": 95,
   "id": "ed0d385e-15b8-40fb-8ec0-8b52dc66af02",
   "metadata": {},
   "outputs": [
    {
     "data": {
      "text/plain": [
       "{'samosa': 30,\n",
       " 'pakora': 100,\n",
       " 'raita': 20,\n",
       " 'salid': 50,\n",
       " 'chicket roles': 30,\n",
       " 'tikki': 60,\n",
       " 'Dates': 50,\n",
       " 'choclate': 150,\n",
       " 'biscuit': 1000}"
      ]
     },
     "execution_count": 95,
     "metadata": {},
     "output_type": "execute_result"
    }
   ],
   "source": [
    "# concatenate\n",
    "food1.update(food2)\n",
    "food1"
   ]
  },
  {
   "cell_type": "markdown",
   "id": "cc4f1d7b-2d1a-4b16-9ff0-f213c238b29d",
   "metadata": {},
   "source": [
    "# 4 Sets"
   ]
  },
  {
   "cell_type": "code",
   "execution_count": 98,
   "id": "480222ad-cc6a-4c6f-8202-1ba40649bd38",
   "metadata": {},
   "outputs": [],
   "source": [
    "# sets are unordered and  unindex collection of elements\n",
    "# sets use curly braces\n",
    "# no dublicates allowed and totally unordered\n"
   ]
  },
  {
   "cell_type": "code",
   "execution_count": 151,
   "id": "721e5758-7625-4d41-bd1f-45a4192faab0",
   "metadata": {},
   "outputs": [
    {
     "data": {
      "text/plain": [
       "{1, 2.1, 5.2, 'pakistan', 'suhriyani', 'zohra'}"
      ]
     },
     "execution_count": 151,
     "metadata": {},
     "output_type": "execute_result"
    }
   ],
   "source": [
    "s1 ={ 1, 2.1, 5.2,\"zohra\" , \"suhriyani\", \"pakistan\", }\n",
    "s1"
   ]
  },
  {
   "cell_type": "code",
   "execution_count": 141,
   "id": "398c60cc-878d-4690-9cde-b708eb1dcc78",
   "metadata": {},
   "outputs": [],
   "source": [
    "s1.add(\"zohra1\")"
   ]
  },
  {
   "cell_type": "code",
   "execution_count": 153,
   "id": "da28a5d3-13d5-4b05-a561-8951f8d56bbe",
   "metadata": {},
   "outputs": [
    {
     "data": {
      "text/plain": [
       "{1, 2.1, 5.2, 'pakistan', 'suhriyani', 'zohra'}"
      ]
     },
     "execution_count": 153,
     "metadata": {},
     "output_type": "execute_result"
    }
   ],
   "source": [
    "s1"
   ]
  },
  {
   "cell_type": "code",
   "execution_count": 161,
   "id": "e64e5f1e-15ef-4fd3-b4cc-35b0d9dc037d",
   "metadata": {},
   "outputs": [
    {
     "data": {
      "text/plain": [
       "{1, 2.1, 5.2, 'pakistan', 'suhriyani'}"
      ]
     },
     "execution_count": 161,
     "metadata": {},
     "output_type": "execute_result"
    }
   ],
   "source": [
    "s1.copy()"
   ]
  },
  {
   "cell_type": "code",
   "execution_count": 165,
   "id": "adcb1eb4-a964-4e65-80ae-abffeb718938",
   "metadata": {},
   "outputs": [
    {
     "data": {
      "text/plain": [
       "{2.3, 'pakistan', 'sakeena', 'zohra', 'zohra suhriyani'}"
      ]
     },
     "execution_count": 165,
     "metadata": {},
     "output_type": "execute_result"
    }
   ],
   "source": [
    "s2= { 2.3 ,\"zohra\" , \"pakistan\" , \"zohra suhriyani\" , \"sakeena\"}\n",
    "s2"
   ]
  },
  {
   "cell_type": "code",
   "execution_count": 169,
   "id": "8ab5edd9-292a-4ad3-90a2-1d218035059e",
   "metadata": {},
   "outputs": [
    {
     "data": {
      "text/plain": [
       "{1, 2.1, 5.2, 'suhriyani'}"
      ]
     },
     "execution_count": 169,
     "metadata": {},
     "output_type": "execute_result"
    }
   ],
   "source": [
    "s1.difference( s2)"
   ]
  },
  {
   "cell_type": "code",
   "execution_count": 173,
   "id": "70f93201-5dd9-4443-8158-1fdd64bf5bc6",
   "metadata": {},
   "outputs": [
    {
     "data": {
      "text/plain": [
       "{2.3, 'sakeena', 'zohra', 'zohra suhriyani'}"
      ]
     },
     "execution_count": 173,
     "metadata": {},
     "output_type": "execute_result"
    }
   ],
   "source": [
    "s2.difference(s1)"
   ]
  },
  {
   "cell_type": "code",
   "execution_count": 175,
   "id": "3d170111-ba47-47fc-9e81-c0fb1c4b5271",
   "metadata": {},
   "outputs": [
    {
     "data": {
      "text/plain": [
       "{'pakistan'}"
      ]
     },
     "execution_count": 175,
     "metadata": {},
     "output_type": "execute_result"
    }
   ],
   "source": [
    "s1.intersection(s2)"
   ]
  },
  {
   "cell_type": "code",
   "execution_count": 181,
   "id": "d0db1fda-a026-45c8-8491-e1b8ca9dac44",
   "metadata": {},
   "outputs": [
    {
     "data": {
      "text/plain": [
       "False"
      ]
     },
     "execution_count": 181,
     "metadata": {},
     "output_type": "execute_result"
    }
   ],
   "source": [
    "# if there is no common elements then return true otherwise  return false\n",
    "s1.isdisjoint(s2)"
   ]
  },
  {
   "cell_type": "code",
   "execution_count": 185,
   "id": "b358a3b5-e7b8-4bc5-8a35-d2c212e5f915",
   "metadata": {},
   "outputs": [
    {
     "data": {
      "text/plain": [
       "0"
      ]
     },
     "execution_count": 185,
     "metadata": {},
     "output_type": "execute_result"
    }
   ],
   "source": [
    "s1.clear()\n",
    "len(s1)"
   ]
  },
  {
   "cell_type": "code",
   "execution_count": 187,
   "id": "bf8875b1-252c-4ec7-9283-4f806e69c1ae",
   "metadata": {},
   "outputs": [
    {
     "data": {
      "text/plain": [
       "True"
      ]
     },
     "execution_count": 187,
     "metadata": {},
     "output_type": "execute_result"
    }
   ],
   "source": [
    "# check  elemsts are subset of s1 and s2\n",
    "s1.issubset(s2)"
   ]
  },
  {
   "cell_type": "code",
   "execution_count": null,
   "id": "b190b0ca-8855-4bc6-af43-bf007da391fd",
   "metadata": {},
   "outputs": [],
   "source": []
  }
 ],
 "metadata": {
  "kernelspec": {
   "display_name": "Python [conda env:base] *",
   "language": "python",
   "name": "conda-base-py"
  },
  "language_info": {
   "codemirror_mode": {
    "name": "ipython",
    "version": 3
   },
   "file_extension": ".py",
   "mimetype": "text/x-python",
   "name": "python",
   "nbconvert_exporter": "python",
   "pygments_lexer": "ipython3",
   "version": "3.12.7"
  }
 },
 "nbformat": 4,
 "nbformat_minor": 5
}
