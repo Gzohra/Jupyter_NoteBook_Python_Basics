{
 "cells": [
  {
   "cell_type": "code",
   "execution_count": 3,
   "id": "f9d54e4f-e521-4eaa-bd0b-6234417f373a",
   "metadata": {},
   "outputs": [
    {
     "data": {
      "text/plain": [
       "array([5, 5, 5])"
      ]
     },
     "execution_count": 3,
     "metadata": {},
     "output_type": "execute_result"
    }
   ],
   "source": [
    "import numpy as np\n",
    "a =np.array([5,5,5])\n",
    "a"
   ]
  },
  {
   "cell_type": "code",
   "execution_count": 5,
   "id": "cba0ac65-e834-4656-b862-4742ec66ab03",
   "metadata": {},
   "outputs": [
    {
     "data": {
      "text/plain": [
       "numpy.ndarray"
      ]
     },
     "execution_count": 5,
     "metadata": {},
     "output_type": "execute_result"
    }
   ],
   "source": [
    "type(a)"
   ]
  },
  {
   "cell_type": "code",
   "execution_count": 7,
   "id": "13f55aa5-d161-4021-aa69-25a04a750567",
   "metadata": {},
   "outputs": [
    {
     "data": {
      "text/plain": [
       "array([1., 1., 1.])"
      ]
     },
     "execution_count": 7,
     "metadata": {},
     "output_type": "execute_result"
    }
   ],
   "source": [
    "b=np.ones(3)\n",
    "b"
   ]
  },
  {
   "cell_type": "code",
   "execution_count": 11,
   "id": "0d019e76-3709-4f47-aaf2-e0aee5e0d693",
   "metadata": {},
   "outputs": [
    {
     "data": {
      "text/plain": [
       "array([0., 0., 0., 0.])"
      ]
     },
     "execution_count": 11,
     "metadata": {},
     "output_type": "execute_result"
    }
   ],
   "source": [
    "c= np.zeros(4)\n",
    "c"
   ]
  },
  {
   "cell_type": "code",
   "execution_count": 13,
   "id": "3565a071-99ee-48d9-a039-65274063817e",
   "metadata": {},
   "outputs": [
    {
     "data": {
      "text/plain": [
       "array([1., 1., 1.])"
      ]
     },
     "execution_count": 13,
     "metadata": {},
     "output_type": "execute_result"
    }
   ],
   "source": [
    "# create a empty array with 2 elements\n",
    "d=np.empty(3)\n",
    "d"
   ]
  },
  {
   "cell_type": "code",
   "execution_count": 17,
   "id": "36f91ee9-4647-4614-9232-a4280850d20f",
   "metadata": {},
   "outputs": [
    {
     "data": {
      "text/plain": [
       "array([0, 1, 2, 3, 4, 5])"
      ]
     },
     "execution_count": 17,
     "metadata": {},
     "output_type": "execute_result"
    }
   ],
   "source": [
    "# one d array with range of elements\n",
    "e=np.arange(6)\n",
    "e"
   ]
  },
  {
   "cell_type": "code",
   "execution_count": 21,
   "id": "4f5e97c1-d444-44fe-935f-7184162d2b50",
   "metadata": {},
   "outputs": [
    {
     "data": {
      "text/plain": [
       "array([ 2,  3,  4,  5,  6,  7,  8,  9, 10, 11, 12, 13, 14, 15, 16, 17, 18,\n",
       "       19])"
      ]
     },
     "execution_count": 21,
     "metadata": {},
     "output_type": "execute_result"
    }
   ],
   "source": [
    "# wuth specific range of elements\n",
    "f=np.arange(2,20)\n",
    "f"
   ]
  },
  {
   "cell_type": "code",
   "execution_count": 23,
   "id": "c2cc36cf-0125-428e-8a5d-a37a151abfb6",
   "metadata": {},
   "outputs": [
    {
     "data": {
      "text/plain": [
       "array([ 2,  4,  6,  8, 10, 12, 14, 16, 18])"
      ]
     },
     "execution_count": 23,
     "metadata": {},
     "output_type": "execute_result"
    }
   ],
   "source": [
    "# continue\n",
    "g=np.arange(2,20,2)\n",
    "g"
   ]
  },
  {
   "cell_type": "code",
   "execution_count": 25,
   "id": "ffa370ba-07fc-4890-94b9-5e4e1779bbe9",
   "metadata": {},
   "outputs": [
    {
     "data": {
      "text/plain": [
       "array([ 0. ,  2.5,  5. ,  7.5, 10. ])"
      ]
     },
     "execution_count": 25,
     "metadata": {},
     "output_type": "execute_result"
    }
   ],
   "source": [
    "# linerly spaced arrays\n",
    "h= np.linspace(0 , 10 , num=5)  # gives use 5 nums\n",
    "h"
   ]
  },
  {
   "cell_type": "code",
   "execution_count": 29,
   "id": "a8ac7539-52d4-4dee-9e91-7168767aa631",
   "metadata": {},
   "outputs": [
    {
     "data": {
      "text/plain": [
       "array([ 0.        ,  3.33333333,  6.66666667, 10.        , 13.33333333,\n",
       "       16.66666667, 20.        , 23.33333333, 26.66666667, 30.        ])"
      ]
     },
     "execution_count": 29,
     "metadata": {},
     "output_type": "execute_result"
    }
   ],
   "source": [
    "i=np.linspace(0,30,10)\n",
    "i"
   ]
  },
  {
   "cell_type": "code",
   "execution_count": 31,
   "id": "2d862ad8-c2ca-4b41-8435-d4d5120fdb46",
   "metadata": {},
   "outputs": [
    {
     "data": {
      "text/plain": [
       "array([ 0.        ,  2.63157895,  5.26315789,  7.89473684, 10.52631579,\n",
       "       13.15789474, 15.78947368, 18.42105263, 21.05263158, 23.68421053,\n",
       "       26.31578947, 28.94736842, 31.57894737, 34.21052632, 36.84210526,\n",
       "       39.47368421, 42.10526316, 44.73684211, 47.36842105, 50.        ])"
      ]
     },
     "execution_count": 31,
     "metadata": {},
     "output_type": "execute_result"
    }
   ],
   "source": [
    "j=np.linspace(0,50,20)\n",
    "j"
   ]
  },
  {
   "cell_type": "code",
   "execution_count": 37,
   "id": "bcd61e8a-3a09-444a-97ab-269c0321e098",
   "metadata": {},
   "outputs": [
    {
     "data": {
      "text/plain": [
       "array([1, 1, 1, 1, 1], dtype=int8)"
      ]
     },
     "execution_count": 37,
     "metadata": {},
     "output_type": "execute_result"
    }
   ],
   "source": [
    "# specific Data types an array\n",
    "k=np.ones(5,dtype=np.int8)\n",
    "k"
   ]
  },
  {
   "cell_type": "code",
   "execution_count": 39,
   "id": "2c2be7ce-9bd6-405d-ad31-f8530ef0b2da",
   "metadata": {},
   "outputs": [
    {
     "data": {
      "text/plain": [
       "array([1., 1., 1.])"
      ]
     },
     "execution_count": 39,
     "metadata": {},
     "output_type": "execute_result"
    }
   ],
   "source": [
    "l=np.ones(3, dtype=np.float64)\n",
    "l"
   ]
  },
  {
   "cell_type": "code",
   "execution_count": 43,
   "id": "46302a91-1053-4282-9f04-16d986a816b2",
   "metadata": {},
   "outputs": [
    {
     "data": {
      "text/plain": [
       "array([1., 1., 1., 1., 1., 1., 1.])"
      ]
     },
     "execution_count": 43,
     "metadata": {},
     "output_type": "execute_result"
    }
   ],
   "source": [
    "m=np.ones(7, dtype=np.float64)\n",
    "m"
   ]
  },
  {
   "cell_type": "code",
   "execution_count": null,
   "id": "6b842868-07e9-40e1-9c6e-d55b50c82f50",
   "metadata": {},
   "outputs": [],
   "source": []
  }
 ],
 "metadata": {
  "kernelspec": {
   "display_name": "Python [conda env:base] *",
   "language": "python",
   "name": "conda-base-py"
  },
  "language_info": {
   "codemirror_mode": {
    "name": "ipython",
    "version": 3
   },
   "file_extension": ".py",
   "mimetype": "text/x-python",
   "name": "python",
   "nbconvert_exporter": "python",
   "pygments_lexer": "ipython3",
   "version": "3.12.7"
  }
 },
 "nbformat": 4,
 "nbformat_minor": 5
}
