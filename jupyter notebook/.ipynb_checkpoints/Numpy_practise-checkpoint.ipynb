{
 "cells": [
  {
   "cell_type": "markdown",
   "id": "53b1454f-7322-42b4-9cfa-3acf94a0c6ee",
   "metadata": {},
   "source": [
    " # Numpy practice Session"
   ]
  },
  {
   "cell_type": "markdown",
   "id": "b4eb3aaa-71a9-4324-981b-acf3662df8ad",
   "metadata": {},
   "source": [
    "# Creating an array using Numpy"
   ]
  },
  {
   "cell_type": "code",
   "execution_count": 5,
   "id": "d671d665-4e90-421a-8f03-f8c82def2f29",
   "metadata": {},
   "outputs": [],
   "source": [
    "import numpy as np\n"
   ]
  },
  {
   "cell_type": "code",
   "execution_count": 17,
   "id": "12ec295b-c661-4d7d-bb94-b0bdce4fcfab",
   "metadata": {},
   "outputs": [
    {
     "data": {
      "text/plain": [
       "array(['english , maths, physics'], dtype='<U24')"
      ]
     },
     "execution_count": 17,
     "metadata": {},
     "output_type": "execute_result"
    }
   ],
   "source": [
    "# one D array\n",
    "books=np.array([\"english , maths, physics\"])\n",
    "books"
   ]
  },
  {
   "cell_type": "code",
   "execution_count": 39,
   "id": "36f541f4-e793-409f-b139-b0adfdc4b669",
   "metadata": {},
   "outputs": [
    {
     "data": {
      "text/plain": [
       "array(['1,2,3,4,5,6'], dtype='<U11')"
      ]
     },
     "execution_count": 39,
     "metadata": {},
     "output_type": "execute_result"
    }
   ],
   "source": [
    "number=np.array([\"1,2,3,4,5,6\"])\n",
    "number"
   ]
  },
  {
   "cell_type": "code",
   "execution_count": 9,
   "id": "05ecaf9d-dd29-483b-bf22-b84e0e6a319e",
   "metadata": {},
   "outputs": [
    {
     "data": {
      "text/plain": [
       "numpy.ndarray"
      ]
     },
     "execution_count": 9,
     "metadata": {},
     "output_type": "execute_result"
    }
   ],
   "source": [
    "type(number)"
   ]
  },
  {
   "cell_type": "code",
   "execution_count": 7,
   "id": "e54c93e5-185b-4a07-8e57-e75fd40839a6",
   "metadata": {},
   "outputs": [
    {
     "data": {
      "text/plain": [
       "1"
      ]
     },
     "execution_count": 7,
     "metadata": {},
     "output_type": "execute_result"
    }
   ],
   "source": [
    "len(number)"
   ]
  },
  {
   "cell_type": "code",
   "execution_count": 11,
   "id": "0f72e683-8507-4f01-869b-506404b2e084",
   "metadata": {},
   "outputs": [
    {
     "data": {
      "text/plain": [
       "1"
      ]
     },
     "execution_count": 11,
     "metadata": {},
     "output_type": "execute_result"
    }
   ],
   "source": [
    "len(books)"
   ]
  },
  {
   "cell_type": "code",
   "execution_count": 33,
   "id": "a4ec67b8-74df-43fd-9f28-b5e5f4fafe82",
   "metadata": {},
   "outputs": [
    {
     "data": {
      "text/plain": [
       "'english , maths, physics'"
      ]
     },
     "execution_count": 33,
     "metadata": {},
     "output_type": "execute_result"
    }
   ],
   "source": [
    "books[0]"
   ]
  },
  {
   "cell_type": "code",
   "execution_count": 35,
   "id": "e1303815-d774-4354-85a1-45b59be0eb79",
   "metadata": {},
   "outputs": [
    {
     "data": {
      "text/plain": [
       "array(['1,2,3,4,5,6'], dtype='<U11')"
      ]
     },
     "execution_count": 35,
     "metadata": {},
     "output_type": "execute_result"
    }
   ],
   "source": [
    "number[0:]"
   ]
  },
  {
   "cell_type": "code",
   "execution_count": 47,
   "id": "bb798673-c8df-4d0b-9adc-df27b84f4595",
   "metadata": {},
   "outputs": [
    {
     "data": {
      "text/plain": [
       "array([5, 5, 5])"
      ]
     },
     "execution_count": 47,
     "metadata": {},
     "output_type": "execute_result"
    }
   ],
   "source": [
    "price=np.array([5,5,5])\n",
    "price"
   ]
  },
  {
   "cell_type": "code",
   "execution_count": 49,
   "id": "800644a0-75e2-4100-9575-6a96135daba7",
   "metadata": {},
   "outputs": [
    {
     "data": {
      "text/plain": [
       "5.0"
      ]
     },
     "execution_count": 49,
     "metadata": {},
     "output_type": "execute_result"
    }
   ],
   "source": [
    "price.mean()"
   ]
  },
  {
   "cell_type": "code",
   "execution_count": 53,
   "id": "552645f8-11d7-42e9-afb6-e18ba662cbc1",
   "metadata": {},
   "outputs": [
    {
     "data": {
      "text/plain": [
       "5"
      ]
     },
     "execution_count": 53,
     "metadata": {},
     "output_type": "execute_result"
    }
   ],
   "source": [
    "price[2]"
   ]
  },
  {
   "cell_type": "code",
   "execution_count": 55,
   "id": "518f5237-b448-4b8a-a3e1-1a5bcf497d25",
   "metadata": {},
   "outputs": [
    {
     "data": {
      "text/plain": [
       "array([0., 0., 0., 0., 0., 0.])"
      ]
     },
     "execution_count": 55,
     "metadata": {},
     "output_type": "execute_result"
    }
   ],
   "source": [
    "#zeros\n",
    "np.zeros(6)"
   ]
  },
  {
   "cell_type": "code",
   "execution_count": 59,
   "id": "2fd96f73-2d97-49d3-90c7-f792a584d9ca",
   "metadata": {},
   "outputs": [
    {
     "data": {
      "text/plain": [
       "array([1., 1., 1., 1., 1., 1., 1., 1., 1., 1.])"
      ]
     },
     "execution_count": 59,
     "metadata": {},
     "output_type": "execute_result"
    }
   ],
   "source": [
    "# ones\n",
    "np.ones(10)"
   ]
  },
  {
   "cell_type": "code",
   "execution_count": 63,
   "id": "a206fbc1-f326-4b5a-8810-d7179559ebaf",
   "metadata": {},
   "outputs": [
    {
     "data": {
      "text/plain": [
       "array([6.23042070e-307, 4.67296746e-307, 1.69121096e-306, 3.33772792e-307,\n",
       "       1.67640452e-312])"
      ]
     },
     "execution_count": 63,
     "metadata": {},
     "output_type": "execute_result"
    }
   ],
   "source": [
    "#empty\n",
    "np.empty(5)"
   ]
  },
  {
   "cell_type": "code",
   "execution_count": 65,
   "id": "e897d058-81e9-4d8c-a6e3-51a10593676e",
   "metadata": {},
   "outputs": [
    {
     "data": {
      "text/plain": [
       "array([0, 1, 2, 3, 4, 5, 6, 7, 8, 9])"
      ]
     },
     "execution_count": 65,
     "metadata": {},
     "output_type": "execute_result"
    }
   ],
   "source": [
    "# range\n",
    "np.arange(10)"
   ]
  },
  {
   "cell_type": "code",
   "execution_count": 7,
   "id": "4004bd8f-9db4-4dbe-93f5-3ed0301fac5a",
   "metadata": {},
   "outputs": [
    {
     "data": {
      "text/plain": [
       "array([ 2,  3,  4,  5,  6,  7,  8,  9, 10, 11, 12, 13, 14, 15, 16, 17, 18,\n",
       "       19])"
      ]
     },
     "execution_count": 7,
     "metadata": {},
     "output_type": "execute_result"
    }
   ],
   "source": [
    "# specify\n",
    "np.arange(2,20)"
   ]
  },
  {
   "cell_type": "code",
   "execution_count": 9,
   "id": "18b129d2-2350-4497-82f2-89077fd26e96",
   "metadata": {},
   "outputs": [
    {
     "data": {
      "text/plain": [
       "array([ 2,  4,  6,  8, 10, 12, 14, 16, 18])"
      ]
     },
     "execution_count": 9,
     "metadata": {},
     "output_type": "execute_result"
    }
   ],
   "source": [
    "# specific interval\n",
    "np.arange(2,20,2)"
   ]
  },
  {
   "cell_type": "code",
   "execution_count": 15,
   "id": "9372e237-48ac-4d20-8b9f-798d7d8e8d25",
   "metadata": {},
   "outputs": [
    {
     "data": {
      "text/plain": [
       "array([ 0,  5, 10, 15, 20, 25, 30, 35, 40, 45, 50])"
      ]
     },
     "execution_count": 15,
     "metadata": {},
     "output_type": "execute_result"
    }
   ],
   "source": [
    "# Table of 5\n",
    "np.arange(0,55,5)"
   ]
  },
  {
   "cell_type": "code",
   "execution_count": 19,
   "id": "cb5c73d6-7c61-425c-b7cb-b712f3d9b1cb",
   "metadata": {},
   "outputs": [
    {
     "data": {
      "text/plain": [
       "array([ 0. ,  2.5,  5. ,  7.5, 10. ])"
      ]
     },
     "execution_count": 19,
     "metadata": {},
     "output_type": "execute_result"
    }
   ],
   "source": [
    "np.linspace(0,10 ,num=5)"
   ]
  },
  {
   "cell_type": "code",
   "execution_count": 21,
   "id": "1825af81-0bf5-4a51-bdea-f273442e4778",
   "metadata": {},
   "outputs": [
    {
     "data": {
      "text/plain": [
       "array([  0.        ,  11.11111111,  22.22222222,  33.33333333,\n",
       "        44.44444444,  55.55555556,  66.66666667,  77.77777778,\n",
       "        88.88888889, 100.        ])"
      ]
     },
     "execution_count": 21,
     "metadata": {},
     "output_type": "execute_result"
    }
   ],
   "source": [
    "np.linspace(0,100,10)"
   ]
  },
  {
   "cell_type": "code",
   "execution_count": 23,
   "id": "505463cc-644a-4d54-8d39-1e4156f87a4d",
   "metadata": {},
   "outputs": [
    {
     "data": {
      "text/plain": [
       "array([  0.        ,  10.20408163,  20.40816327,  30.6122449 ,\n",
       "        40.81632653,  51.02040816,  61.2244898 ,  71.42857143,\n",
       "        81.63265306,  91.83673469, 102.04081633, 112.24489796,\n",
       "       122.44897959, 132.65306122, 142.85714286, 153.06122449,\n",
       "       163.26530612, 173.46938776, 183.67346939, 193.87755102,\n",
       "       204.08163265, 214.28571429, 224.48979592, 234.69387755,\n",
       "       244.89795918, 255.10204082, 265.30612245, 275.51020408,\n",
       "       285.71428571, 295.91836735, 306.12244898, 316.32653061,\n",
       "       326.53061224, 336.73469388, 346.93877551, 357.14285714,\n",
       "       367.34693878, 377.55102041, 387.75510204, 397.95918367,\n",
       "       408.16326531, 418.36734694, 428.57142857, 438.7755102 ,\n",
       "       448.97959184, 459.18367347, 469.3877551 , 479.59183673,\n",
       "       489.79591837, 500.        ])"
      ]
     },
     "execution_count": 23,
     "metadata": {},
     "output_type": "execute_result"
    }
   ],
   "source": [
    "np.linspace(0,500, 50)"
   ]
  },
  {
   "cell_type": "code",
   "execution_count": 25,
   "id": "7e336794-8ec8-4a81-b406-411ccfb35119",
   "metadata": {},
   "outputs": [
    {
     "data": {
      "text/plain": [
       "array([100.        , 108.16326531, 116.32653061, 124.48979592,\n",
       "       132.65306122, 140.81632653, 148.97959184, 157.14285714,\n",
       "       165.30612245, 173.46938776, 181.63265306, 189.79591837,\n",
       "       197.95918367, 206.12244898, 214.28571429, 222.44897959,\n",
       "       230.6122449 , 238.7755102 , 246.93877551, 255.10204082,\n",
       "       263.26530612, 271.42857143, 279.59183673, 287.75510204,\n",
       "       295.91836735, 304.08163265, 312.24489796, 320.40816327,\n",
       "       328.57142857, 336.73469388, 344.89795918, 353.06122449,\n",
       "       361.2244898 , 369.3877551 , 377.55102041, 385.71428571,\n",
       "       393.87755102, 402.04081633, 410.20408163, 418.36734694,\n",
       "       426.53061224, 434.69387755, 442.85714286, 451.02040816,\n",
       "       459.18367347, 467.34693878, 475.51020408, 483.67346939,\n",
       "       491.83673469, 500.        ])"
      ]
     },
     "execution_count": 25,
     "metadata": {},
     "output_type": "execute_result"
    }
   ],
   "source": [
    "np.linspace(100,500,50)"
   ]
  },
  {
   "cell_type": "code",
   "execution_count": 27,
   "id": "577ed851-885b-497c-81ba-054666d877ee",
   "metadata": {},
   "outputs": [
    {
     "data": {
      "text/plain": [
       "array([1, 1, 1, 1, 1], dtype=int64)"
      ]
     },
     "execution_count": 27,
     "metadata": {},
     "output_type": "execute_result"
    }
   ],
   "source": [
    "# specify your data\n",
    "np.ones(5,dtype=np.int64)"
   ]
  },
  {
   "cell_type": "code",
   "execution_count": 29,
   "id": "ef965bbc-5834-4471-a68a-1b8b031a92c8",
   "metadata": {},
   "outputs": [
    {
     "data": {
      "text/plain": [
       "array([1, 1, 1, 1, 1, 1, 1, 1, 1, 1, 1, 1, 1, 1, 1, 1, 1, 1, 1, 1, 1, 1,\n",
       "       1, 1, 1, 1, 1, 1, 1, 1, 1, 1, 1, 1, 1, 1, 1, 1, 1, 1, 1, 1, 1, 1,\n",
       "       1, 1, 1, 1, 1, 1], dtype=int64)"
      ]
     },
     "execution_count": 29,
     "metadata": {},
     "output_type": "execute_result"
    }
   ],
   "source": [
    "np.ones(50, dtype=np.int64)"
   ]
  },
  {
   "cell_type": "code",
   "execution_count": 37,
   "id": "69dc17b8-5ea0-4f9e-8716-9b0c50d4234b",
   "metadata": {},
   "outputs": [
    {
     "data": {
      "text/plain": [
       "array([1., 1., 1., 1., 1., 1., 1., 1., 1., 1., 1., 1., 1., 1., 1., 1., 1.,\n",
       "       1., 1., 1., 1., 1., 1., 1., 1., 1., 1., 1., 1., 1., 1., 1., 1., 1.,\n",
       "       1., 1., 1., 1., 1., 1., 1., 1., 1., 1., 1., 1., 1., 1., 1., 1.])"
      ]
     },
     "execution_count": 37,
     "metadata": {},
     "output_type": "execute_result"
    }
   ],
   "source": [
    "np.ones(50,dtype=np.float64)"
   ]
  },
  {
   "cell_type": "markdown",
   "id": "2c04c3ba-a667-408f-8924-231223f19d3a",
   "metadata": {},
   "source": [
    "# Array Functions"
   ]
  },
  {
   "cell_type": "code",
   "execution_count": 42,
   "id": "50f67bef-8a51-4aaa-bf97-4bad554eb540",
   "metadata": {},
   "outputs": [
    {
     "data": {
      "text/plain": [
       "array([10.  , 30.  , 60.  ,  3.4 ,  0.  , 45.4 , 56.  ,  8.2 ,  4.  ,\n",
       "        3.  ,  2.  ,  7.  ,  1.33,  2.45])"
      ]
     },
     "execution_count": 42,
     "metadata": {},
     "output_type": "execute_result"
    }
   ],
   "source": [
    "a= np.array([10,30,60,3.4,0,45.4,56,8.2,4,3,2,7,1.33 ,2.45])\n",
    "a"
   ]
  },
  {
   "cell_type": "code",
   "execution_count": 44,
   "id": "0e6422e7-a7d2-4d44-9d7c-0604fccdb72b",
   "metadata": {},
   "outputs": [
    {
     "data": {
      "text/plain": [
       "array([ 0.  ,  1.33,  2.  ,  2.45,  3.  ,  3.4 ,  4.  ,  7.  ,  8.2 ,\n",
       "       10.  , 30.  , 45.4 , 56.  , 60.  ])"
      ]
     },
     "execution_count": 44,
     "metadata": {},
     "output_type": "execute_result"
    }
   ],
   "source": [
    "a.sort()\n",
    "a"
   ]
  },
  {
   "cell_type": "code",
   "execution_count": 48,
   "id": "1728b483-9699-4a95-932d-00ec539f97cb",
   "metadata": {},
   "outputs": [
    {
     "data": {
      "text/plain": [
       "array([ 40,  50,  56,  78,  30,   2, 567,  49,  48,  46])"
      ]
     },
     "execution_count": 48,
     "metadata": {},
     "output_type": "execute_result"
    }
   ],
   "source": [
    "b= np.array([40,50,56,78,30,2,567,49,48,46])\n",
    "b"
   ]
  },
  {
   "cell_type": "code",
   "execution_count": 50,
   "id": "9fb9ff0d-2945-425f-9af1-88ed7d7cfb81",
   "metadata": {},
   "outputs": [
    {
     "data": {
      "text/plain": [
       "array([  0.  ,   1.33,   2.  ,   2.45,   3.  ,   3.4 ,   4.  ,   7.  ,\n",
       "         8.2 ,  10.  ,  30.  ,  45.4 ,  56.  ,  60.  ,  40.  ,  50.  ,\n",
       "        56.  ,  78.  ,  30.  ,   2.  , 567.  ,  49.  ,  48.  ,  46.  ])"
      ]
     },
     "execution_count": 50,
     "metadata": {},
     "output_type": "execute_result"
    }
   ],
   "source": [
    "c=np.concatenate((a,b))\n",
    "c"
   ]
  },
  {
   "cell_type": "code",
   "execution_count": 54,
   "id": "fba6f8f2-5038-47d2-a7f6-c8605e2f5895",
   "metadata": {},
   "outputs": [
    {
     "data": {
      "text/plain": [
       "array([  0.  ,   1.33,   2.  ,   2.  ,   2.45,   3.  ,   3.4 ,   4.  ,\n",
       "         7.  ,   8.2 ,  10.  ,  30.  ,  30.  ,  40.  ,  45.4 ,  46.  ,\n",
       "        48.  ,  49.  ,  50.  ,  56.  ,  56.  ,  60.  ,  78.  , 567.  ])"
      ]
     },
     "execution_count": 54,
     "metadata": {},
     "output_type": "execute_result"
    }
   ],
   "source": [
    "c.sort()\n",
    "c"
   ]
  },
  {
   "cell_type": "markdown",
   "id": "23ae6357-ba79-474d-8fbb-4b6a464355d5",
   "metadata": {},
   "source": [
    "# 2 _D array"
   ]
  }
 ],
 "metadata": {
  "kernelspec": {
   "display_name": "Python [conda env:base] *",
   "language": "python",
   "name": "conda-base-py"
  },
  "language_info": {
   "codemirror_mode": {
    "name": "ipython",
    "version": 3
   },
   "file_extension": ".py",
   "mimetype": "text/x-python",
   "name": "python",
   "nbconvert_exporter": "python",
   "pygments_lexer": "ipython3",
   "version": "3.12.7"
  }
 },
 "nbformat": 4,
 "nbformat_minor": 5
}
