{
 "cells": [
  {
   "cell_type": "markdown",
   "id": "bee407cb-d307-4721-982b-e5d2a67bed19",
   "metadata": {},
   "source": [
    "# jupter notebook"
   ]
  },
  {
   "cell_type": "code",
   "execution_count": 5,
   "id": "bb9cfa08-ba36-4528-9dd6-defe347b92c2",
   "metadata": {},
   "outputs": [
    {
     "name": "stdout",
     "output_type": "stream",
     "text": [
      "python ka chilla\n"
     ]
    }
   ],
   "source": [
    "print(\"python ka chilla\")"
   ]
  },
  {
   "cell_type": "code",
   "execution_count": 7,
   "id": "6f9335be-1427-4384-8008-3aca27f5139a",
   "metadata": {},
   "outputs": [
    {
     "data": {
      "text/plain": [
       "'my name is zohra suhriyani'"
      ]
     },
     "execution_count": 7,
     "metadata": {},
     "output_type": "execute_result"
    }
   ],
   "source": [
    "zohra = \"my name is zohra suhriyani\"\n",
    "zohra"
   ]
  }
 ],
 "metadata": {
  "kernelspec": {
   "display_name": "Python [conda env:base] *",
   "language": "python",
   "name": "conda-base-py"
  },
  "language_info": {
   "codemirror_mode": {
    "name": "ipython",
    "version": 3
   },
   "file_extension": ".py",
   "mimetype": "text/x-python",
   "name": "python",
   "nbconvert_exporter": "python",
   "pygments_lexer": "ipython3",
   "version": "3.12.7"
  }
 },
 "nbformat": 4,
 "nbformat_minor": 5
}
